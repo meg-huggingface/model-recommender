{
 "cells": [
  {
   "cell_type": "markdown",
   "metadata": {},
   "source": [
    "# Testing some model"
   ]
  },
  {
   "cell_type": "code",
   "execution_count": 2,
   "metadata": {},
   "outputs": [
    {
     "name": "stdout",
     "output_type": "stream",
     "text": [
      "Loading pretrained config for `meta-llama/Llama-2-7b-chat-hf` from `transformers`...\n"
     ]
    },
    {
     "data": {
      "text/plain": [
       "{'model_id': 'meta-llama/Llama-2-7b-chat-hf',\n",
       " 'max_batch_prefill_tokens': 8192,\n",
       " 'num_gpus': 1,\n",
       " 'quantization_type': None,\n",
       " 'max_prompt_length': 4096,\n",
       " 'estimated_memory_in_gigabytes': 20}"
      ]
     },
     "execution_count": 2,
     "metadata": {},
     "output_type": "execute_result"
    }
   ],
   "source": [
    "from recommender.main import get_tgi_config\n",
    "\n",
    "model_id = \"meta-llama/Llama-2-7b-chat-hf\"\n",
    "gpu_memory = 24\n",
    "\n",
    "get_tgi_config(model_id,gpu_memory)"
   ]
  },
  {
   "cell_type": "code",
   "execution_count": 5,
   "metadata": {},
   "outputs": [
    {
     "name": "stderr",
     "output_type": "stream",
     "text": [
      "config.json: 100%|██████████| 837/837 [00:00<00:00, 463kB/s]\n"
     ]
    },
    {
     "name": "stdout",
     "output_type": "stream",
     "text": [
      "Loading pretrained config for `TheBloke/Llama-2-13B-Chat-GPTQ` from `transformers`...\n"
     ]
    },
    {
     "data": {
      "text/plain": [
       "{'model_id': 'TheBloke/Llama-2-13B-Chat-GPTQ',\n",
       " 'max_batch_prefill_tokens': 8192,\n",
       " 'num_gpus': 1,\n",
       " 'quantization_type': 'gptq',\n",
       " 'max_prompt_length': 4096,\n",
       " 'estimated_memory_in_gigabytes': 14}"
      ]
     },
     "execution_count": 5,
     "metadata": {},
     "output_type": "execute_result"
    }
   ],
   "source": [
    "get_tgi_config(\"TheBloke/Llama-2-13B-Chat-GPTQ\",gpu_memory)\n"
   ]
  },
  {
   "cell_type": "code",
   "execution_count": 2,
   "metadata": {},
   "outputs": [
    {
     "data": {
      "text/plain": [
       "{'dtype': 'float16', 'memory_in_bytes': 17179869184, 'memory_in_gigabytes': 16}"
      ]
     },
     "execution_count": 2,
     "metadata": {},
     "output_type": "execute_result"
    }
   ],
   "source": [
    "from recommender.utils.calcuation import get_tgi_memory\n",
    "\n",
    "\n",
    "get_tgi_memory(\"TheBloke/Llama-2-7B-Chat-GPTQ\",16384, \"float16\")\n"
   ]
  },
  {
   "cell_type": "code",
   "execution_count": 3,
   "metadata": {},
   "outputs": [
    {
     "name": "stdout",
     "output_type": "stream",
     "text": [
      "Loading pretrained config for `meta-llama/Llama-2-7b-chat-hf` from `transformers`...\n"
     ]
    },
    {
     "data": {
      "text/plain": [
       "[{'model_id': 'meta-llama/Llama-2-7b-chat-hf',\n",
       "  'max_batch_prefill_tokens': 4096,\n",
       "  'quantization_type': None,\n",
       "  'max_prompt_length': 4096,\n",
       "  'required_gpu_memory': 17},\n",
       " {'model_id': 'meta-llama/Llama-2-7b-chat-hf',\n",
       "  'max_batch_prefill_tokens': 8192,\n",
       "  'quantization_type': None,\n",
       "  'max_prompt_length': 4096,\n",
       "  'required_gpu_memory': 20},\n",
       " {'model_id': 'meta-llama/Llama-2-7b-chat-hf',\n",
       "  'max_batch_prefill_tokens': 16384,\n",
       "  'quantization_type': None,\n",
       "  'max_prompt_length': 4096,\n",
       "  'required_gpu_memory': 35},\n",
       " {'model_id': 'meta-llama/Llama-2-7b-chat-hf',\n",
       "  'max_batch_prefill_tokens': 32768,\n",
       "  'quantization_type': None,\n",
       "  'max_prompt_length': 4096,\n",
       "  'required_gpu_memory': 92}]"
      ]
     },
     "execution_count": 3,
     "metadata": {},
     "output_type": "execute_result"
    }
   ],
   "source": [
    "from recommender.main import get_recommendation\n",
    "\n",
    "\n",
    "get_recommendation(\"meta-llama/Llama-2-7b-chat-hf\")\n"
   ]
  },
  {
   "cell_type": "code",
   "execution_count": null,
   "metadata": {},
   "outputs": [],
   "source": []
  }
 ],
 "metadata": {
  "kernelspec": {
   "display_name": "Python 3.8.12 ('hf')",
   "language": "python",
   "name": "python3"
  },
  "language_info": {
   "codemirror_mode": {
    "name": "ipython",
    "version": 3
   },
   "file_extension": ".py",
   "mimetype": "text/x-python",
   "name": "python",
   "nbconvert_exporter": "python",
   "pygments_lexer": "ipython3",
   "version": "3.8.12"
  },
  "orig_nbformat": 4,
  "vscode": {
   "interpreter": {
    "hash": "5fcf248a74081676ead7e77f54b2c239ba2921b952f7cbcdbbe5427323165924"
   }
  }
 },
 "nbformat": 4,
 "nbformat_minor": 2
}
