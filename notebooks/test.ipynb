{
 "cells": [
  {
   "cell_type": "markdown",
   "metadata": {},
   "source": [
    "## Recommend hardware for model id"
   ]
  },
  {
   "cell_type": "code",
   "execution_count": 83,
   "metadata": {},
   "outputs": [
    {
     "name": "stdout",
     "output_type": "stream",
     "text": [
      "Requirement already satisfied: requests in /opt/homebrew/Caskroom/miniforge/base/envs/hf/lib/python3.8/site-packages (2.26.0)\n",
      "Collecting grequests\n",
      "  Downloading grequests-0.6.0-py3-none-any.whl (5.2 kB)\n",
      "Requirement already satisfied: certifi>=2017.4.17 in /opt/homebrew/Caskroom/miniforge/base/envs/hf/lib/python3.8/site-packages (from requests) (2021.10.8)\n",
      "Requirement already satisfied: urllib3<1.27,>=1.21.1 in /opt/homebrew/Caskroom/miniforge/base/envs/hf/lib/python3.8/site-packages (from requests) (1.26.7)\n",
      "Requirement already satisfied: charset-normalizer~=2.0.0 in /opt/homebrew/Caskroom/miniforge/base/envs/hf/lib/python3.8/site-packages (from requests) (2.0.8)\n",
      "Requirement already satisfied: idna<4,>=2.5 in /opt/homebrew/Caskroom/miniforge/base/envs/hf/lib/python3.8/site-packages (from requests) (3.3)\n",
      "Requirement already satisfied: gevent in /opt/homebrew/Caskroom/miniforge/base/envs/hf/lib/python3.8/site-packages (from grequests) (21.12.0)\n",
      "Requirement already satisfied: setuptools in /opt/homebrew/Caskroom/miniforge/base/envs/hf/lib/python3.8/site-packages (from gevent->grequests) (59.4.0)\n",
      "Requirement already satisfied: zope.interface in /opt/homebrew/Caskroom/miniforge/base/envs/hf/lib/python3.8/site-packages (from gevent->grequests) (5.4.0)\n",
      "Requirement already satisfied: zope.event in /opt/homebrew/Caskroom/miniforge/base/envs/hf/lib/python3.8/site-packages (from gevent->grequests) (4.5.0)\n",
      "Requirement already satisfied: greenlet<2.0,>=1.1.0 in /opt/homebrew/Caskroom/miniforge/base/envs/hf/lib/python3.8/site-packages (from gevent->grequests) (1.1.2)\n",
      "Installing collected packages: grequests\n",
      "Successfully installed grequests-0.6.0\n"
     ]
    }
   ],
   "source": [
    "!pip install requests grequests"
   ]
  },
  {
   "cell_type": "code",
   "execution_count": 1,
   "metadata": {},
   "outputs": [
    {
     "name": "stdout",
     "output_type": "stream",
     "text": [
      "Skipping model mosaicml/mpt-7b-instruct because it has custom modelling files\n",
      "Selected instance g4dn.12xlarge for model size 18.57861328125 GB\n",
      "{\n",
      "  \"inference\": {\n",
      "    \"recommended_accelerator\": \"gpu\",\n",
      "    \"min_required_memory\": 19024.5,\n",
      "    \"sagemaker\": {\n",
      "      \"min_instance_type\": \"g4dn.12xlarge\",\n",
      "      \"code_snippet\": \"\\nimport sagemaker\\nimport boto3\\nfrom sagemaker.huggingface import HuggingFaceModel\\n\\ntry:\\n\\trole = sagemaker.get_execution_role()\\nexcept ValueError:\\n\\tiam = boto3.client('iam')\\n\\trole = iam.get_role(RoleName='sagemaker_execution_role')['Role']['Arn']\\n\\n# Hub Model configuration. https://huggingface.co/models\\nhub = {\\n\\t'HF_MODEL_ID':'mosaicml/mpt-7b-instruct',\\n\\t'HF_TASK':'text-generation'\\n}\\n\\n# create Hugging Face Model Class\\nhuggingface_model = HuggingFaceModel(\\n\\ttransformers_version='4.26.0',\\n\\tpytorch_version='1.13.1',\\n\\tpy_version='py39',\\n\\tenv=hub,\\n\\trole=role, \\n)\\n\\n# deploy model to SageMaker Inference\\npredictor = huggingface_model.deploy(\\n\\tinitial_instance_count=1, # number of instances\\n\\tinstance_type='g4dn.12xlarge' # ec2 instance type\\n)\\n\\npredictor.predict({\\n\\t\\\"inputs\\\": \\\"The answer to the universe is [MASK].\\\",\\n})\\n\"\n",
      "    },\n",
      "    \"is_tgi_supported\": false,\n",
      "    \"is_custom_model\": true,\n",
      "    \"is_gated\": false\n",
      "  },\n",
      "  \"training\": null\n",
      "}\n"
     ]
    }
   ],
   "source": [
    "from modeler.main import modeler\n",
    "import json \n",
    "\n",
    "def test(id):\n",
    "  x = modeler(id)\n",
    "  print(json.dumps(x, default=lambda o: o.__dict__, indent=2))\n",
    "  \n",
    "test(\"mosaicml/mpt-7b-instruct\")\n"
   ]
  },
  {
   "cell_type": "code",
   "execution_count": 2,
   "metadata": {},
   "outputs": [
    {
     "name": "stdout",
     "output_type": "stream",
     "text": [
      "Selected instance c6i.large for model size 0.37353515625 GB\n",
      "{\n",
      "  \"inference\": {\n",
      "    \"recommended_accelerator\": \"cpu\",\n",
      "    \"min_required_memory\": 382.5,\n",
      "    \"sagemaker\": {\n",
      "      \"min_instance_type\": \"c6i.large\",\n",
      "      \"code_snippet\": \"\\nimport sagemaker\\nimport boto3\\nfrom sagemaker.huggingface import HuggingFaceModel\\n\\ntry:\\n\\trole = sagemaker.get_execution_role()\\nexcept ValueError:\\n\\tiam = boto3.client('iam')\\n\\trole = iam.get_role(RoleName='sagemaker_execution_role')['Role']['Arn']\\n\\n# Hub Model configuration. https://huggingface.co/models\\nhub = {\\n\\t'HF_MODEL_ID':'distilbert-base-uncased-finetuned-sst-2-english',\\n\\t'HF_TASK':'text-classification'\\n}\\n\\n# create Hugging Face Model Class\\nhuggingface_model = HuggingFaceModel(\\n\\ttransformers_version='4.26.0',\\n\\tpytorch_version='1.13.1',\\n\\tpy_version='py39',\\n\\tenv=hub,\\n\\trole=role, \\n)\\n\\n# deploy model to SageMaker Inference\\npredictor = huggingface_model.deploy(\\n\\tinitial_instance_count=1, # number of instances\\n\\tinstance_type='c6i.large' # ec2 instance type\\n)\\n\\npredictor.predict({\\n\\t\\\"inputs\\\": \\\"The answer to the universe is [MASK].\\\",\\n})\\n\"\n",
      "    },\n",
      "    \"is_tgi_supported\": false,\n",
      "    \"is_custom_model\": false,\n",
      "    \"is_gated\": false\n",
      "  },\n",
      "  \"training\": null\n",
      "}\n"
     ]
    }
   ],
   "source": [
    "test(\"distilbert-base-uncased-finetuned-sst-2-english\")"
   ]
  },
  {
   "cell_type": "code",
   "execution_count": 3,
   "metadata": {},
   "outputs": [
    {
     "name": "stdout",
     "output_type": "stream",
     "text": [
      "Skipping model mosaicml/mpt-7b-instruct because it has custom modelling files\n",
      "{\n",
      "  \"inference\": {\n",
      "    \"recommended_accelerator\": \"gpu\",\n",
      "    \"min_required_memory\": 19024.5,\n",
      "    \"sagemaker\": {\n",
      "      \"min_instance_type\": \"ml.g4dn.xlarge\",\n",
      "      \"code_snippet\": \"\\nimport sagemaker\\nimport boto3\\nfrom sagemaker.huggingface import HuggingFaceModel\\n\\ntry:\\n\\trole = sagemaker.get_execution_role()\\nexcept ValueError:\\n\\tiam = boto3.client('iam')\\n\\trole = iam.get_role(RoleName='sagemaker_execution_role')['Role']['Arn']\\n\\n# Hub Model configuration. https://huggingface.co/models\\nhub = {\\n\\t'HF_MODEL_ID':'mosaicml/mpt-7b-instruct',\\n\\t'HF_TASK':'text-generation'\\n}\\n\\n# create Hugging Face Model Class\\nhuggingface_model = HuggingFaceModel(\\n\\ttransformers_version='4.26.0',\\n\\tpytorch_version='1.13.1',\\n\\tpy_version='py39',\\n\\tenv=hub,\\n\\trole=role, \\n)\\n\\n# deploy model to SageMaker Inference\\npredictor = huggingface_model.deploy(\\n\\tinitial_instance_count=1, # number of instances\\n\\tinstance_type='ml.g4dn.xlarge' # ec2 instance type\\n)\\n\\npredictor.predict({\\n\\t\\\"inputs\\\": \\\"The answer to the universe is [MASK].\\\",\\n})\\n\"\n",
      "    },\n",
      "    \"is_tgi_supported\": false,\n",
      "    \"is_custom_model\": true,\n",
      "    \"is_gated\": false\n",
      "  },\n",
      "  \"training\": null\n",
      "}\n"
     ]
    }
   ],
   "source": [
    "test(\"mosaicml/mpt-7b-instruct\")\n"
   ]
  },
  {
   "cell_type": "code",
   "execution_count": null,
   "metadata": {},
   "outputs": [],
   "source": []
  }
 ],
 "metadata": {
  "kernelspec": {
   "display_name": "Python 3.8.12 ('hf')",
   "language": "python",
   "name": "python3"
  },
  "language_info": {
   "codemirror_mode": {
    "name": "ipython",
    "version": 3
   },
   "file_extension": ".py",
   "mimetype": "text/x-python",
   "name": "python",
   "nbconvert_exporter": "python",
   "pygments_lexer": "ipython3",
   "version": "3.8.12"
  },
  "orig_nbformat": 4,
  "vscode": {
   "interpreter": {
    "hash": "5fcf248a74081676ead7e77f54b2c239ba2921b952f7cbcdbbe5427323165924"
   }
  }
 },
 "nbformat": 4,
 "nbformat_minor": 2
}
