{
 "cells": [
  {
   "cell_type": "markdown",
   "metadata": {},
   "source": [
    "## Recommend hardware for model id"
   ]
  },
  {
   "cell_type": "code",
   "execution_count": null,
   "metadata": {},
   "outputs": [],
   "source": [
    "!pip install requests grequests"
   ]
  },
  {
   "cell_type": "code",
   "execution_count": 1,
   "metadata": {},
   "outputs": [
    {
     "name": "stdout",
     "output_type": "stream",
     "text": [
      "Loading pretrained config for `mosaicml/mpt-7b-instruct` from `transformers`...\n",
      "Selected instance g4dn.12xlarge for model size 30.648065185546873 GB\n",
      "{\n",
      "  \"inference\": {\n",
      "    \"recommended_accelerator\": {\n",
      "      \"type\": \"gpu\",\n",
      "      \"supports_model_parallelism\": true\n",
      "    },\n",
      "    \"min_required_memory\": 32908109414.399998,\n",
      "    \"model\": {\n",
      "      \"id\": \"mosaicml/mpt-7b-instruct\",\n",
      "      \"model_type\": \"mpt\",\n",
      "      \"task\": \"text-generation\",\n",
      "      \"library\": \"transformers\",\n",
      "      \"tags\": [\n",
      "        \"transformers\",\n",
      "        \"pytorch\",\n",
      "        \"mpt\",\n",
      "        \"text-generation\",\n",
      "        \"Composer\",\n",
      "        \"MosaicML\",\n",
      "        \"llm-foundry\",\n",
      "        \"custom_code\",\n",
      "        \"dataset:mosaicml/dolly_hhrlhf\",\n",
      "        \"arxiv:2205.14135\",\n",
      "        \"arxiv:2108.12409\",\n",
      "        \"arxiv:2010.04245\",\n",
      "        \"license:cc-by-sa-3.0\",\n",
      "        \"has_space\",\n",
      "        \"text-generation-inference\",\n",
      "        \"region:us\"\n",
      "      ],\n",
      "      \"is_custom_model\": true,\n",
      "      \"is_tgi_supported\": true,\n",
      "      \"is_gated\": false,\n",
      "      \"size_in_bytes_fp32\": 27423424512,\n",
      "      \"widget_data\": {\n",
      "        \"text\": \"My name is Julien and I like to\"\n",
      "      },\n",
      "      \"license\": \"cc-by-sa-3.0\"\n",
      "    },\n",
      "    \"sagemaker\": {\n",
      "      \"is_llm\": false,\n",
      "      \"min_instance_type\": \"g4dn.12xlarge\",\n",
      "      \"code_snippet\": \"\\nimport sagemaker\\nimport boto3\\nfrom sagemaker.huggingface import HuggingFaceModel\\n\\ntry:\\n\\trole = sagemaker.get_execution_role()\\nexcept ValueError:\\n\\tiam = boto3.client('iam')\\n\\trole = iam.get_role(RoleName='sagemaker_execution_role')['Role']['Arn']\\n\\n# Hub Model configuration. https://huggingface.co/models\\nhub = {\\n\\t'HF_MODEL_ID':'mosaicml/mpt-7b-instruct',\\n\\t'HF_TASK':'text-generation'\\n}\\n\\n# create Hugging Face Model Class\\nhuggingface_model = HuggingFaceModel(\\n\\ttransformers_version='4.26.0',\\n\\tpytorch_version='1.13.1',\\n\\tpy_version='py39',\\n\\tenv=hub,\\n\\trole=role,\\n)\\n\\n# deploy model to SageMaker Inference\\npredictor = huggingface_model.deploy(\\n\\tinitial_instance_count=1, # number of instances\\n\\tinstance_type='g4dn.12xlarge' # ec2 instance type\\n)\\n\\npredictor.predict({\\n\\t\\\"inputs\\\": \\\"The answer to the universe is [MASK].\\\",\\n})\\n\"\n",
      "    },\n",
      "    \"tgi\": {\n",
      "      \"required_model_memory\": {\n",
      "        \"fp32\": 27423424512,\n",
      "        \"fp16\": 13711712256.0,\n",
      "        \"int8\": 6855856128.0,\n",
      "        \"int4\": 3427928064.0\n",
      "      },\n",
      "      \"additonal_memory_total_tokens\": {\n",
      "        \"1024\": null,\n",
      "        \"2048\": null,\n",
      "        \"4096\": null,\n",
      "        \"8192\": null,\n",
      "        \"16384\": null\n",
      "      }\n",
      "    }\n",
      "  },\n",
      "  \"training\": null\n",
      "}\n"
     ]
    }
   ],
   "source": [
    "from recommender.main import recommender\n",
    "import json \n",
    "\n",
    "def test(id):\n",
    "  x = recommender(id)\n",
    "  print(json.dumps(x, default=lambda o: o.__dict__, indent=2))\n",
    "  \n",
    "test(\"mosaicml/mpt-7b-instruct\")\n"
   ]
  },
  {
   "cell_type": "code",
   "execution_count": 2,
   "metadata": {},
   "outputs": [
    {
     "ename": "NameError",
     "evalue": "name 'test' is not defined",
     "output_type": "error",
     "traceback": [
      "\u001b[0;31m---------------------------------------------------------------------------\u001b[0m",
      "\u001b[0;31mNameError\u001b[0m                                 Traceback (most recent call last)",
      "\u001b[0;32m/var/folders/qt/wszh_95953qc0znj82hjxs5m0000gn/T/ipykernel_65499/2400150254.py\u001b[0m in \u001b[0;36m<module>\u001b[0;34m\u001b[0m\n\u001b[0;32m----> 1\u001b[0;31m \u001b[0mtest\u001b[0m\u001b[0;34m(\u001b[0m\u001b[0;34m\"distilbert-base-uncased-finetuned-sst-2-english\"\u001b[0m\u001b[0;34m)\u001b[0m\u001b[0;34m\u001b[0m\u001b[0;34m\u001b[0m\u001b[0m\n\u001b[0m",
      "\u001b[0;31mNameError\u001b[0m: name 'test' is not defined"
     ]
    }
   ],
   "source": [
    "test(\"distilbert-base-uncased-finetuned-sst-2-english\")"
   ]
  },
  {
   "cell_type": "code",
   "execution_count": 3,
   "metadata": {},
   "outputs": [
    {
     "name": "stdout",
     "output_type": "stream",
     "text": [
      "Loading pretrained config for `mosaicml/mpt-7b-instruct` from `transformers`...\n",
      "Selected instance g4dn.12xlarge for model size 30.648065185546873 GB\n",
      "{\n",
      "  \"inference\": {\n",
      "    \"recommended_accelerator\": \"gpu\",\n",
      "    \"min_required_memory\": 32908109414.399998,\n",
      "    \"sagemaker\": {\n",
      "      \"min_instance_type\": \"g4dn.12xlarge\",\n",
      "      \"code_snippet\": \"\\nimport sagemaker\\nimport boto3\\nfrom sagemaker.huggingface import HuggingFaceModel\\n\\ntry:\\n\\trole = sagemaker.get_execution_role()\\nexcept ValueError:\\n\\tiam = boto3.client('iam')\\n\\trole = iam.get_role(RoleName='sagemaker_execution_role')['Role']['Arn']\\n\\n# Hub Model configuration. https://huggingface.co/models\\nhub = {\\n\\t'HF_MODEL_ID':'mosaicml/mpt-7b-instruct',\\n\\t'HF_TASK':'text-generation'\\n}\\n\\n# create Hugging Face Model Class\\nhuggingface_model = HuggingFaceModel(\\n\\ttransformers_version='4.26.0',\\n\\tpytorch_version='1.13.1',\\n\\tpy_version='py39',\\n\\tenv=hub,\\n\\trole=role,\\n)\\n\\n# deploy model to SageMaker Inference\\npredictor = huggingface_model.deploy(\\n\\tinitial_instance_count=1, # number of instances\\n\\tinstance_type='g4dn.12xlarge' # ec2 instance type\\n)\\n\\npredictor.predict({\\n\\t\\\"inputs\\\": \\\"The answer to the universe is [MASK].\\\",\\n})\\n\"\n",
      "    },\n",
      "    \"tgi\": {\n",
      "      \"is_supported\": true,\n",
      "      \"min_required_memory_in_bytes\": 13711712256.0\n",
      "    },\n",
      "    \"is_custom_model\": true,\n",
      "    \"is_gated\": false\n",
      "  },\n",
      "  \"training\": null\n",
      "}\n"
     ]
    }
   ],
   "source": [
    "test(\"mosaicml/mpt-7b-instruct\")\n"
   ]
  },
  {
   "cell_type": "code",
   "execution_count": 4,
   "metadata": {},
   "outputs": [
    {
     "data": {
      "text/plain": [
       "80"
      ]
     },
     "execution_count": 4,
     "metadata": {},
     "output_type": "execute_result"
    }
   ],
   "source": [
    "import torch \n",
    "\n",
    "\n",
    "t = torch.tensor([1,2,3,4,5,6,7,8,9,10], device=\"meta\")\n",
    "t.element_size() * t.nelement()"
   ]
  },
  {
   "cell_type": "code",
   "execution_count": null,
   "metadata": {},
   "outputs": [],
   "source": []
  }
 ],
 "metadata": {
  "kernelspec": {
   "display_name": "Python 3.8.12 ('hf')",
   "language": "python",
   "name": "python3"
  },
  "language_info": {
   "codemirror_mode": {
    "name": "ipython",
    "version": 3
   },
   "file_extension": ".py",
   "mimetype": "text/x-python",
   "name": "python",
   "nbconvert_exporter": "python",
   "pygments_lexer": "ipython3",
   "version": "3.8.12"
  },
  "orig_nbformat": 4,
  "vscode": {
   "interpreter": {
    "hash": "5fcf248a74081676ead7e77f54b2c239ba2921b952f7cbcdbbe5427323165924"
   }
  }
 },
 "nbformat": 4,
 "nbformat_minor": 2
}
