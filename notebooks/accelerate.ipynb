{
 "cells": [
  {
   "cell_type": "code",
   "execution_count": 26,
   "metadata": {},
   "outputs": [],
   "source": [
    "from accelerate.commands.estimate import estimate_command_parser, gather_data\n",
    "\n",
    "parser = estimate_command_parser()\n",
    "dtypes = [\"float32\", \"float16\", \"int8\", \"int4\"]\n",
    "\n",
    "def get_model_size(model_id, dtype):\n",
    "  args = parser.parse_args([model_id, \"--dtypes\", dtype])\n",
    "  output = gather_data(args)\n",
    "  return {\n",
    "    \"dtype\": dtype,\n",
    "    \"model_size_in_bytes\": output[0][2],\n",
    "    \"model_size_in_megabytes\": output[0][2]/(1024*1024),\n",
    "    \"infernece_size_in_bytes\": output[0][2] * 1.2,\n",
    "    \"infernece_size_in_megabytes\": output[0][2] * 1.2/(1024*1024),\n",
    "}\n"
   ]
  },
  {
   "cell_type": "code",
   "execution_count": 31,
   "metadata": {},
   "outputs": [
    {
     "name": "stdout",
     "output_type": "stream",
     "text": [
      "Loading pretrained config for `bert-base-uncased` from `transformers`...\n"
     ]
    },
    {
     "data": {
      "text/plain": [
       "417.6494140625"
      ]
     },
     "execution_count": 31,
     "metadata": {},
     "output_type": "execute_result"
    }
   ],
   "source": [
    "get_model_size(\"bert-base-uncased\",\"int4\")[\"model_size_in_megabytes\"] * 8"
   ]
  },
  {
   "cell_type": "code",
   "execution_count": 32,
   "metadata": {},
   "outputs": [
    {
     "name": "stdout",
     "output_type": "stream",
     "text": [
      "Loading pretrained config for `mosaicml/mpt-7b-instruct` from `transformers`...\n"
     ]
    },
    {
     "data": {
      "text/plain": [
       "{'dtype': 'float32',\n",
       " 'model_size_in_bytes': 27423424512,\n",
       " 'model_size_in_megabytes': 26153.015625,\n",
       " 'infernece_size_in_bytes': 32908109414.399998,\n",
       " 'infernece_size_in_megabytes': 31383.618749999998}"
      ]
     },
     "execution_count": 32,
     "metadata": {},
     "output_type": "execute_result"
    }
   ],
   "source": [
    "get_model_size(\"mosaicml/mpt-7b-instruct\",\"float32\")"
   ]
  },
  {
   "cell_type": "code",
   "execution_count": 25,
   "metadata": {},
   "outputs": [
    {
     "name": "stdout",
     "output_type": "stream",
     "text": [
      "Loading pretrained config for `meta-llama/Llama-2-7b-chat-hf` from `transformers`...\n"
     ]
    },
    {
     "name": "stderr",
     "output_type": "stream",
     "text": [
      "Downloading (…)lve/main/config.json: 100%|██████████| 614/614 [00:00<00:00, 2.26MB/s]\n"
     ]
    },
    {
     "data": {
      "text/plain": [
       "{'dtype': 'float16',\n",
       " 'model_size_in_bytes': 13281800192.0,\n",
       " 'model_size_in_megabytes': 12666.51171875,\n",
       " 'infernece_size_in_bytes': 15938160230.4,\n",
       " 'infernece_size_in_megabytes': 15199.8140625}"
      ]
     },
     "execution_count": 25,
     "metadata": {},
     "output_type": "execute_result"
    }
   ],
   "source": [
    "get_model_size(\"meta-llama/Llama-2-7b-chat-hf\",\"float16\")"
   ]
  },
  {
   "cell_type": "code",
   "execution_count": null,
   "metadata": {},
   "outputs": [],
   "source": []
  }
 ],
 "metadata": {
  "kernelspec": {
   "display_name": "hf",
   "language": "python",
   "name": "python3"
  },
  "language_info": {
   "codemirror_mode": {
    "name": "ipython",
    "version": 3
   },
   "file_extension": ".py",
   "mimetype": "text/x-python",
   "name": "python",
   "nbconvert_exporter": "python",
   "pygments_lexer": "ipython3",
   "version": "3.8.12"
  },
  "orig_nbformat": 4
 },
 "nbformat": 4,
 "nbformat_minor": 2
}
