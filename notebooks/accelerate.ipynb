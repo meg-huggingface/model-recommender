{
 "cells": [
  {
   "cell_type": "code",
   "execution_count": 39,
   "metadata": {},
   "outputs": [],
   "source": [
    "import torch\n",
    "from transformers import AutoConfig\n",
    "from accelerate.commands.estimate import estimate_command_parser, gather_data\n",
    "\n",
    "parser = estimate_command_parser()\n",
    "dtypes = [\"float32\", \"float16\", \"int8\", \"int4\"]\n",
    "\n",
    "DEFAULT_PYTORCH_USAGE_PER_GPU = 1_000_000_000\n",
    "\n",
    "def get_model_size(model_id, dtype):\n",
    "  args = parser.parse_args([model_id, \"--dtypes\", dtype])\n",
    "  output = gather_data(args)\n",
    "  return {\n",
    "    \"dtype\": dtype,\n",
    "    \"model_size_in_bytes\": output[0][2],\n",
    "    \"model_size_in_megabytes\": output[0][2]/(1024*1024),\n",
    "    \"model_size_in_gigabytes\": output[0][2]/(1024*1024*1024),\n",
    "}\n",
    "\n",
    "def get_tgi_memory(model_id, max_prefill_tokens, dtype):\n",
    "  config = AutoConfig.from_pretrained(model_id)\n",
    "  # calculate the memory required for max prefilled tokens\n",
    "  tensor_size = (max_prefill_tokens ** 2) * config.num_attention_heads\n",
    "  memory = tensor_size * getattr(torch, dtype).itemsize\n",
    "  return {\n",
    "    \"dtype\": dtype,\n",
    "    \"memory_in_bytes\": memory,\n",
    "    \"memory_in_megabytes\": memory/(1024*1024),\n",
    "    \"memory_in_gigabytes\": memory/(1024*1024*1024),\n",
    "  }\n",
    "  \n",
    "def get_real_memory(model_id, max_prefill_tokens, dtype,num_gpus=1):\n",
    "  model_size = get_model_size(model_id, dtype)\n",
    "  tgi_memory = get_tgi_memory(model_id, max_prefill_tokens, dtype)\n",
    "  real_memory_with_buffer = (model_size[\"model_size_in_bytes\"] + tgi_memory[\"memory_in_bytes\"]+ (num_gpus*DEFAULT_PYTORCH_USAGE_PER_GPU)) * 1.2\n",
    "  return {\n",
    "    \"dtype\": dtype,\n",
    "    \"real_memory_in_bytes\": real_memory_with_buffer,\n",
    "    \"real_memory_in_megabytes\": real_memory_with_buffer/(1024*1024),\n",
    "    \"real_memory_in_gigabytes\": real_memory_with_buffer/(1024*1024*1024),\n",
    "    \"real_memory_per_gpu_in_bytes\": real_memory_with_buffer/num_gpus,\n",
    "    \"real_memory_per_gpu_in_megabytes\": real_memory_with_buffer/(1024*1024*num_gpus),\n",
    "    \"real_memory_per_gpu_in_gigabytes\": real_memory_with_buffer/(1024*1024*1024*num_gpus),\n",
    "  }"
   ]
  },
  {
   "cell_type": "code",
   "execution_count": 40,
   "metadata": {},
   "outputs": [
    {
     "name": "stdout",
     "output_type": "stream",
     "text": [
      "4096\n"
     ]
    },
    {
     "data": {
      "text/plain": [
       "{'dtype': 'float16',\n",
       " 'memory_in_bytes': 4294967296,\n",
       " 'memory_in_megabytes': 4096.0,\n",
       " 'memory_in_gigabytes': 4.0}"
      ]
     },
     "execution_count": 40,
     "metadata": {},
     "output_type": "execute_result"
    }
   ],
   "source": [
    "get_tgi_memory(\"meta-llama/Llama-2-7b-chat-hf\",8192,\"float16\")"
   ]
  },
  {
   "cell_type": "code",
   "execution_count": 41,
   "metadata": {},
   "outputs": [
    {
     "name": "stdout",
     "output_type": "stream",
     "text": [
      "4096\n"
     ]
    },
    {
     "data": {
      "text/plain": [
       "{'dtype': 'float16',\n",
       " 'memory_in_bytes': 4294967296,\n",
       " 'memory_in_megabytes': 4096.0,\n",
       " 'memory_in_gigabytes': 4.0}"
      ]
     },
     "execution_count": 41,
     "metadata": {},
     "output_type": "execute_result"
    }
   ],
   "source": [
    "get_tgi_memory(\"meta-llama/Llama-2-7b-chat-hf\",8192,\"float16\")"
   ]
  },
  {
   "cell_type": "code",
   "execution_count": 42,
   "metadata": {},
   "outputs": [
    {
     "name": "stdout",
     "output_type": "stream",
     "text": [
      "Loading pretrained config for `meta-llama/Llama-2-7b-chat-hf` from `transformers`...\n"
     ]
    },
    {
     "data": {
      "text/plain": [
       "{'dtype': 'float16',\n",
       " 'model_size_in_bytes': 13281800192.0,\n",
       " 'model_size_in_megabytes': 12666.51171875,\n",
       " 'model_size_in_gigabytes': 12.369640350341797}"
      ]
     },
     "execution_count": 42,
     "metadata": {},
     "output_type": "execute_result"
    }
   ],
   "source": [
    "get_model_size(\"meta-llama/Llama-2-7b-chat-hf\",\"float16\")"
   ]
  },
  {
   "cell_type": "code",
   "execution_count": 43,
   "metadata": {},
   "outputs": [
    {
     "name": "stdout",
     "output_type": "stream",
     "text": [
      "Loading pretrained config for `meta-llama/Llama-2-7b-chat-hf` from `transformers`...\n",
      "4096\n"
     ]
    },
    {
     "data": {
      "text/plain": [
       "{'dtype': 'float16',\n",
       " 'real_memory_in_bytes': 22292120985.6,\n",
       " 'real_memory_in_megabytes': 21259.4232421875,\n",
       " 'real_memory_in_gigabytes': 20.76115550994873,\n",
       " 'real_memory_per_gpu_in_bytes': 22292120985.6,\n",
       " 'real_memory_per_gpu_in_megabytes': 21259.4232421875,\n",
       " 'real_memory_per_gpu_in_gigabytes': 20.76115550994873}"
      ]
     },
     "execution_count": 43,
     "metadata": {},
     "output_type": "execute_result"
    }
   ],
   "source": [
    "get_real_memory(\"meta-llama/Llama-2-7b-chat-hf\",8192,\"float16\")"
   ]
  },
  {
   "cell_type": "code",
   "execution_count": 44,
   "metadata": {},
   "outputs": [
    {
     "name": "stdout",
     "output_type": "stream",
     "text": [
      "Loading pretrained config for `meta-llama/Llama-2-70b-chat-hf` from `transformers`...\n",
      "8192\n"
     ]
    },
    {
     "data": {
      "text/plain": [
       "{'dtype': 'float16',\n",
       " 'real_memory_in_bytes': 176503274496.0,\n",
       " 'real_memory_in_megabytes': 168326.6396484375,\n",
       " 'real_memory_in_gigabytes': 164.38148403167725,\n",
       " 'real_memory_per_gpu_in_bytes': 176503274496.0,\n",
       " 'real_memory_per_gpu_in_megabytes': 168326.6396484375,\n",
       " 'real_memory_per_gpu_in_gigabytes': 164.38148403167725}"
      ]
     },
     "execution_count": 44,
     "metadata": {},
     "output_type": "execute_result"
    }
   ],
   "source": [
    "get_real_memory(\"meta-llama/Llama-2-70b-chat-hf\",8192,\"float16\")"
   ]
  },
  {
   "cell_type": "code",
   "execution_count": 45,
   "metadata": {},
   "outputs": [
    {
     "name": "stdout",
     "output_type": "stream",
     "text": [
      "Loading pretrained config for `meta-llama/Llama-2-70b-chat-hf` from `transformers`...\n",
      "8192\n"
     ]
    },
    {
     "data": {
      "text/plain": [
       "{'dtype': 'float16',\n",
       " 'real_memory_in_bytes': 180103274496.0,\n",
       " 'real_memory_in_megabytes': 171759.8671875,\n",
       " 'real_memory_in_gigabytes': 167.73424530029297,\n",
       " 'real_memory_per_gpu_in_bytes': 45025818624.0,\n",
       " 'real_memory_per_gpu_in_megabytes': 42939.966796875,\n",
       " 'real_memory_per_gpu_in_gigabytes': 41.93356132507324}"
      ]
     },
     "execution_count": 45,
     "metadata": {},
     "output_type": "execute_result"
    }
   ],
   "source": [
    "get_real_memory(\"meta-llama/Llama-2-70b-chat-hf\",8192,\"float16\",4)"
   ]
  },
  {
   "cell_type": "code",
   "execution_count": null,
   "metadata": {},
   "outputs": [],
   "source": []
  }
 ],
 "metadata": {
  "kernelspec": {
   "display_name": "hf",
   "language": "python",
   "name": "python3"
  },
  "language_info": {
   "codemirror_mode": {
    "name": "ipython",
    "version": 3
   },
   "file_extension": ".py",
   "mimetype": "text/x-python",
   "name": "python",
   "nbconvert_exporter": "python",
   "pygments_lexer": "ipython3",
   "version": "3.8.12"
  },
  "orig_nbformat": 4
 },
 "nbformat": 4,
 "nbformat_minor": 2
}
